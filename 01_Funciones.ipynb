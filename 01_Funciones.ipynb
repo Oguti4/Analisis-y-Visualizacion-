{
 "cells": [
  {
   "cell_type": "markdown",
   "metadata": {},
   "source": [
    "# Funciones"
   ]
  },
  {
   "cell_type": "code",
   "execution_count": 1,
   "metadata": {},
   "outputs": [],
   "source": [
    "lista = [2,1,7,18,0]"
   ]
  },
  {
   "cell_type": "code",
   "execution_count": 2,
   "metadata": {},
   "outputs": [
    {
     "data": {
      "text/plain": [
       "18"
      ]
     },
     "execution_count": 2,
     "metadata": {},
     "output_type": "execute_result"
    }
   ],
   "source": [
    "max(lista)"
   ]
  },
  {
   "cell_type": "code",
   "execution_count": 3,
   "metadata": {},
   "outputs": [
    {
     "name": "stdout",
     "output_type": "stream",
     "text": [
      "Help on built-in function max in module builtins:\n",
      "\n",
      "max(...)\n",
      "    max(iterable, *[, default=obj, key=func]) -> value\n",
      "    max(arg1, arg2, *args, *[, key=func]) -> value\n",
      "    \n",
      "    With a single iterable argument, return its biggest item. The\n",
      "    default keyword-only argument specifies an object to return if\n",
      "    the provided iterable is empty.\n",
      "    With two or more arguments, return the largest argument.\n",
      "\n"
     ]
    }
   ],
   "source": [
    "help(max)"
   ]
  },
  {
   "cell_type": "markdown",
   "metadata": {},
   "source": [
    "#### función que hace lo mismo que la función max()"
   ]
  },
  {
   "cell_type": "code",
   "execution_count": 4,
   "metadata": {},
   "outputs": [],
   "source": [
    "def maximo(lista):\n",
    "    \"\"\"La función maximo recibe una lista y devuelve el valor máximo\n",
    "    de la lista\"\"\"\n",
    "    lista = sorted(lista, reverse = True)\n",
    "    return lista[0]"
   ]
  },
  {
   "cell_type": "code",
   "execution_count": 5,
   "metadata": {},
   "outputs": [
    {
     "data": {
      "text/plain": [
       "18"
      ]
     },
     "execution_count": 5,
     "metadata": {},
     "output_type": "execute_result"
    }
   ],
   "source": [
    "maximo(lista)"
   ]
  },
  {
   "cell_type": "code",
   "execution_count": 6,
   "metadata": {},
   "outputs": [
    {
     "name": "stdout",
     "output_type": "stream",
     "text": [
      "Help on function maximo in module __main__:\n",
      "\n",
      "maximo(lista)\n",
      "    La función maximo recibe una lista y devuelve el valor máximo\n",
      "    de la lista\n",
      "\n"
     ]
    }
   ],
   "source": [
    "help(maximo)"
   ]
  },
  {
   "cell_type": "markdown",
   "metadata": {},
   "source": [
    "función que recibe dos números x, y y los usa en el polinomio: $ x^3 + y^2 + 1 $"
   ]
  },
  {
   "cell_type": "code",
   "execution_count": 7,
   "metadata": {},
   "outputs": [],
   "source": [
    "def polinomio(x,y):\n",
    "    \"\"\"La función polinomio recibe dos números x,y y los introduce al polinomio\n",
    "    x**3+y**2+1\"\"\"\n",
    "    return x**3+y**2+1"
   ]
  },
  {
   "cell_type": "code",
   "execution_count": 8,
   "metadata": {},
   "outputs": [
    {
     "data": {
      "text/plain": [
       "6"
      ]
     },
     "execution_count": 8,
     "metadata": {},
     "output_type": "execute_result"
    }
   ],
   "source": [
    "polinomio(1,2)"
   ]
  },
  {
   "cell_type": "code",
   "execution_count": 9,
   "metadata": {},
   "outputs": [],
   "source": [
    "f = lambda x,y: x**3+y**2+1"
   ]
  },
  {
   "cell_type": "code",
   "execution_count": 10,
   "metadata": {},
   "outputs": [
    {
     "data": {
      "text/plain": [
       "6"
      ]
     },
     "execution_count": 10,
     "metadata": {},
     "output_type": "execute_result"
    }
   ],
   "source": [
    "f(1,2)"
   ]
  },
  {
   "cell_type": "markdown",
   "metadata": {},
   "source": [
    "Vamos a revisar la función tiempo:"
   ]
  },
  {
   "cell_type": "code",
   "execution_count": 11,
   "metadata": {},
   "outputs": [],
   "source": [
    "import time"
   ]
  },
  {
   "cell_type": "code",
   "execution_count": 12,
   "metadata": {},
   "outputs": [
    {
     "data": {
      "text/plain": [
       "1639507116.2528596"
      ]
     },
     "execution_count": 12,
     "metadata": {},
     "output_type": "execute_result"
    }
   ],
   "source": [
    "time.time()"
   ]
  },
  {
   "cell_type": "code",
   "execution_count": 13,
   "metadata": {},
   "outputs": [
    {
     "name": "stdout",
     "output_type": "stream",
     "text": [
      "Ya acabé\n"
     ]
    }
   ],
   "source": [
    "time.sleep(2)\n",
    "print('Ya acabé')"
   ]
  },
  {
   "cell_type": "code",
   "execution_count": 14,
   "metadata": {},
   "outputs": [
    {
     "name": "stdout",
     "output_type": "stream",
     "text": [
      "2.001554012298584\n"
     ]
    }
   ],
   "source": [
    "t1 = time.time()\n",
    "time.sleep(2)\n",
    "t2 = time.time()\n",
    "dt = t2-t1\n",
    "print(dt)"
   ]
  },
  {
   "cell_type": "markdown",
   "metadata": {},
   "source": [
    "Escribir una función que me diga si un número está en cierto intervalo.\n",
    "\n",
    "Ejemplo: me dan el número 5 y el intervalo (3,8). La función tiene que decirme si 5 está en ese intervalo.\n",
    "\n",
    "Número n y un intervalo (a,b)."
   ]
  },
  {
   "cell_type": "code",
   "execution_count": 15,
   "metadata": {},
   "outputs": [],
   "source": [
    "def check(n,a,b):\n",
    "    if (n > a) & (n < b):\n",
    "        print(n,'está en el intervalo (',a,',',b,')')\n",
    "    else:\n",
    "        print(n,'no está en el intervalo (',a,',',b,')')"
   ]
  },
  {
   "cell_type": "code",
   "execution_count": 16,
   "metadata": {},
   "outputs": [
    {
     "name": "stdout",
     "output_type": "stream",
     "text": [
      "5 está en el intervalo ( 3 , 8 )\n"
     ]
    }
   ],
   "source": [
    "check(5,3,8)"
   ]
  },
  {
   "cell_type": "code",
   "execution_count": 17,
   "metadata": {},
   "outputs": [
    {
     "name": "stdout",
     "output_type": "stream",
     "text": [
      "69 no está en el intervalo ( 1 , 4 )\n"
     ]
    }
   ],
   "source": [
    "check(69,1,4)"
   ]
  },
  {
   "cell_type": "markdown",
   "metadata": {},
   "source": [
    "Escribir una función que te diga si una oración es palindromo o no."
   ]
  },
  {
   "cell_type": "code",
   "execution_count": 18,
   "metadata": {},
   "outputs": [],
   "source": [
    "texto1 = 'Anita lava la tina'\n",
    "texto2 = 'La ruta natural'\n",
    "texto3 = 'Ana, la tacaña catalana'\n",
    "texto4 = '¡Ojo! corre poco perro cojo'\n",
    "texto5 = 'A mamá Roma le aviva el amor a papá y a papá Roma le aviva el amor a mamá'"
   ]
  },
  {
   "cell_type": "code",
   "execution_count": 19,
   "metadata": {},
   "outputs": [
    {
     "name": "stdout",
     "output_type": "stream",
     "text": [
      "anit al aval atinA\n",
      "Anita lava la tina\n"
     ]
    }
   ],
   "source": [
    "print(texto1[::-1])\n",
    "print(texto1)"
   ]
  },
  {
   "cell_type": "markdown",
   "metadata": {},
   "source": [
    "Tenemos el problema de mayúsculas y de espacios. Para resolverlo necesitamos convertir todas las letras a minúsculas y eliminar los espacios."
   ]
  },
  {
   "cell_type": "code",
   "execution_count": 20,
   "metadata": {},
   "outputs": [
    {
     "data": {
      "text/plain": [
       "'Anitalavalatina'"
      ]
     },
     "execution_count": 20,
     "metadata": {},
     "output_type": "execute_result"
    }
   ],
   "source": [
    "texto1.replace(\" \", \"\") # Reemplaza los espacios por NADA, es decir, los elimina."
   ]
  },
  {
   "cell_type": "code",
   "execution_count": 21,
   "metadata": {},
   "outputs": [
    {
     "data": {
      "text/plain": [
       "'anita lava la tina'"
      ]
     },
     "execution_count": 21,
     "metadata": {},
     "output_type": "execute_result"
    }
   ],
   "source": [
    "texto1.lower() # Convierte todas las letras del texto a minúsculas."
   ]
  },
  {
   "cell_type": "code",
   "execution_count": 23,
   "metadata": {},
   "outputs": [],
   "source": [
    "# Falta quitar acentos. Para quitarlos usaremos la librería unidecode\n",
    "import unidecode"
   ]
  },
  {
   "cell_type": "code",
   "execution_count": 24,
   "metadata": {},
   "outputs": [],
   "source": [
    "def palindromo(texto):\n",
    "    \"\"\"Mi función palindromo me dice si tu texto es un palindromo o no\"\"\"\n",
    "    text = texto.lower()\n",
    "    text = unidecode.unidecode(text)\n",
    "    lista = [\" \", \",\", '!','¡']\n",
    "    for i in lista:\n",
    "        text = text.replace(i, \"\")\n",
    "    if text == text[::-1]:\n",
    "        print(texto, 'ES un palindromo')\n",
    "    else:\n",
    "        print(texto, 'NO ES un palindromo')"
   ]
  },
  {
   "cell_type": "code",
   "execution_count": 25,
   "metadata": {},
   "outputs": [
    {
     "name": "stdout",
     "output_type": "stream",
     "text": [
      "A mamá Roma le aviva el amor a papá y a papá Roma le aviva el amor a mamá ES un palindromo\n"
     ]
    }
   ],
   "source": [
    "palindromo(texto5)"
   ]
  },
  {
   "cell_type": "markdown",
   "metadata": {},
   "source": [
    "## Ecuación de Haversine\n",
    "\n",
    "La ecuación de Haversine calcula la distancia entre dos puntos sobre la superficie de una esfera. Para determinar la posición de un punto sobre la superficie de una esfera basta con conocer su latitud $\\phi$ , su longitud $\\lambda$ y su radio $R$.\n",
    "\n",
    "Sea $(\\phi_1,\\lambda_1,R)$ y $(\\phi_2, \\lambda_2,R)$ dos puntos sobre la superficie de la esfera, la distancia mínima d entre ellos estará dada por:\n",
    "\n",
    "$\\Delta \\phi = \\phi_2 - \\phi_1$\n",
    "\n",
    "$ \\Delta \\lambda = \\lambda_2 - \\lambda_1 $\n",
    "\n",
    "$ a = \\sin^2(\\frac{\\Delta \\phi}{2})+\\cos(\\phi_1) \\cdot \\cos(\\phi_2) \\cdot \\sin^2(\\frac{\\Delta \\lambda}{2})$\n",
    "\n",
    "$ c = \\arcsin(\\sqrt a) $\n",
    "\n",
    "$ d = 2Rc$\n",
    "\n",
    "Donde $\\phi_1, \\phi_2, \\lambda_1, \\lambda_2$ están en radianes."
   ]
  },
  {
   "cell_type": "code",
   "execution_count": 26,
   "metadata": {},
   "outputs": [],
   "source": [
    "from math import radians, sin, cos, asin, sqrt"
   ]
  },
  {
   "cell_type": "markdown",
   "metadata": {},
   "source": [
    "En radianes 180 grados es igual a $\\pi$ radianes y 360 grados es igual a 2$\\pi$ radianes."
   ]
  },
  {
   "cell_type": "code",
   "execution_count": 27,
   "metadata": {},
   "outputs": [
    {
     "data": {
      "text/plain": [
       "6.283185307179586"
      ]
     },
     "execution_count": 27,
     "metadata": {},
     "output_type": "execute_result"
    }
   ],
   "source": [
    "radians(360)"
   ]
  },
  {
   "cell_type": "code",
   "execution_count": 28,
   "metadata": {},
   "outputs": [],
   "source": [
    "def Haversine(lat1, lon1, lat2, lon2):\n",
    "    \"\"\"Esta función calcula la distancia mínima entre dos puntos sobre\n",
    "    la superficie de una esfera, en particular, de la Tierra\"\"\"\n",
    "    lat1, lon1, lat2, lon2 = map(radians, [lat1, lon1, lat2, lon2])\n",
    "    dlat = (lat2-lat1)/2\n",
    "    dlon = (lon2-lon1)/2\n",
    "    a = sin(dlat)**2 + cos(lat1)*cos(lat2)*(sin(dlon)**2)\n",
    "    c = asin(sqrt(a))\n",
    "    R = 6378 # Radio de la Tierra en kilómetros\n",
    "    d = 2 * R * c\n",
    "    return d"
   ]
  },
  {
   "cell_type": "code",
   "execution_count": 29,
   "metadata": {},
   "outputs": [
    {
     "data": {
      "text/plain": [
       "15.24534197354237"
      ]
     },
     "execution_count": 29,
     "metadata": {},
     "output_type": "execute_result"
    }
   ],
   "source": [
    "Haversine(19.460022, -99.189172,19.323344, -99.179956)"
   ]
  },
  {
   "cell_type": "raw",
   "metadata": {},
   "source": [
    "Estatua de la Libertad (40.496398, -74.307091)\n",
    "Torre Eiffel (48.956057, 2.003095)\n",
    "\n",
    "Metro Tacuba (19.460022, -99.189172)\n",
    "Facultad de Ciencias (19.323344, -99.179956)"
   ]
  }
 ],
 "metadata": {
  "kernelspec": {
   "display_name": "Python 3",
   "language": "python",
   "name": "python3"
  },
  "language_info": {
   "codemirror_mode": {
    "name": "ipython",
    "version": 3
   },
   "file_extension": ".py",
   "mimetype": "text/x-python",
   "name": "python",
   "nbconvert_exporter": "python",
   "pygments_lexer": "ipython3",
   "version": "3.8.8"
  }
 },
 "nbformat": 4,
 "nbformat_minor": 2
}
