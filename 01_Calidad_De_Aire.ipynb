{
 "cells": [
  {
   "cell_type": "markdown",
   "metadata": {},
   "source": [
    "# Análisis contaminación "
   ]
  },
  {
   "cell_type": "code",
   "execution_count": 3,
   "metadata": {},
   "outputs": [],
   "source": [
    "#Librerías de analisis de datos\n",
    "import pandas as pd\n",
    "import numpy as np\n",
    "import matplotlib.pyplot as plt\n",
    "import seaborn as sbn\n",
    "\n",
    "# %matplotlib inline"
   ]
  },
  {
   "cell_type": "code",
   "execution_count": 4,
   "metadata": {},
   "outputs": [],
   "source": [
    "#lectura de datos\n",
    "datos = pd.read_excel('Datos/todoslosmeses.xlsx')"
   ]
  },
  {
   "cell_type": "code",
   "execution_count": 5,
   "metadata": {},
   "outputs": [
    {
     "data": {
      "text/html": [
       "<div>\n",
       "<style scoped>\n",
       "    .dataframe tbody tr th:only-of-type {\n",
       "        vertical-align: middle;\n",
       "    }\n",
       "\n",
       "    .dataframe tbody tr th {\n",
       "        vertical-align: top;\n",
       "    }\n",
       "\n",
       "    .dataframe thead th {\n",
       "        text-align: right;\n",
       "    }\n",
       "</style>\n",
       "<table border=\"1\" class=\"dataframe\">\n",
       "  <thead>\n",
       "    <tr style=\"text-align: right;\">\n",
       "      <th></th>\n",
       "      <th>hora</th>\n",
       "      <th>fecha</th>\n",
       "      <th>coedisp</th>\n",
       "      <th>abso</th>\n",
       "      <th>albedo</th>\n",
       "      <th>extinc</th>\n",
       "      <th>cn</th>\n",
       "    </tr>\n",
       "  </thead>\n",
       "  <tbody>\n",
       "    <tr>\n",
       "      <th>0</th>\n",
       "      <td>00:02:00</td>\n",
       "      <td>2017-01-01</td>\n",
       "      <td>19.200</td>\n",
       "      <td>3.51</td>\n",
       "      <td>0.845443</td>\n",
       "      <td>22.710</td>\n",
       "      <td>0.746809</td>\n",
       "    </tr>\n",
       "    <tr>\n",
       "      <th>1</th>\n",
       "      <td>00:03:00</td>\n",
       "      <td>2017-01-01</td>\n",
       "      <td>18.800</td>\n",
       "      <td>3.59</td>\n",
       "      <td>0.839661</td>\n",
       "      <td>22.390</td>\n",
       "      <td>0.763830</td>\n",
       "    </tr>\n",
       "    <tr>\n",
       "      <th>2</th>\n",
       "      <td>00:04:00</td>\n",
       "      <td>2017-01-01</td>\n",
       "      <td>25.800</td>\n",
       "      <td>4.03</td>\n",
       "      <td>0.864901</td>\n",
       "      <td>29.830</td>\n",
       "      <td>0.857447</td>\n",
       "    </tr>\n",
       "    <tr>\n",
       "      <th>3</th>\n",
       "      <td>00:05:00</td>\n",
       "      <td>2017-01-01</td>\n",
       "      <td>20.300</td>\n",
       "      <td>3.82</td>\n",
       "      <td>0.841625</td>\n",
       "      <td>24.120</td>\n",
       "      <td>0.812766</td>\n",
       "    </tr>\n",
       "    <tr>\n",
       "      <th>4</th>\n",
       "      <td>00:06:00</td>\n",
       "      <td>2017-01-01</td>\n",
       "      <td>19.700</td>\n",
       "      <td>3.94</td>\n",
       "      <td>0.833333</td>\n",
       "      <td>23.640</td>\n",
       "      <td>0.838298</td>\n",
       "    </tr>\n",
       "    <tr>\n",
       "      <th>...</th>\n",
       "      <td>...</td>\n",
       "      <td>...</td>\n",
       "      <td>...</td>\n",
       "      <td>...</td>\n",
       "      <td>...</td>\n",
       "      <td>...</td>\n",
       "      <td>...</td>\n",
       "    </tr>\n",
       "    <tr>\n",
       "      <th>241949</th>\n",
       "      <td>23:56:00</td>\n",
       "      <td>2017-06-30</td>\n",
       "      <td>1.430</td>\n",
       "      <td>2.08</td>\n",
       "      <td>0.407407</td>\n",
       "      <td>3.510</td>\n",
       "      <td>0.442553</td>\n",
       "    </tr>\n",
       "    <tr>\n",
       "      <th>241950</th>\n",
       "      <td>23:57:00</td>\n",
       "      <td>2017-06-30</td>\n",
       "      <td>0.681</td>\n",
       "      <td>1.80</td>\n",
       "      <td>0.274486</td>\n",
       "      <td>2.481</td>\n",
       "      <td>0.382979</td>\n",
       "    </tr>\n",
       "    <tr>\n",
       "      <th>241951</th>\n",
       "      <td>23:58:00</td>\n",
       "      <td>2017-06-30</td>\n",
       "      <td>1.560</td>\n",
       "      <td>2.08</td>\n",
       "      <td>0.428571</td>\n",
       "      <td>3.640</td>\n",
       "      <td>0.442553</td>\n",
       "    </tr>\n",
       "    <tr>\n",
       "      <th>241952</th>\n",
       "      <td>23:59:00</td>\n",
       "      <td>2017-06-30</td>\n",
       "      <td>2.060</td>\n",
       "      <td>1.96</td>\n",
       "      <td>0.512438</td>\n",
       "      <td>4.020</td>\n",
       "      <td>0.417021</td>\n",
       "    </tr>\n",
       "    <tr>\n",
       "      <th>241953</th>\n",
       "      <td>23:59:55</td>\n",
       "      <td>2017-06-30</td>\n",
       "      <td>1.990</td>\n",
       "      <td>1.83</td>\n",
       "      <td>0.520942</td>\n",
       "      <td>3.820</td>\n",
       "      <td>0.389362</td>\n",
       "    </tr>\n",
       "  </tbody>\n",
       "</table>\n",
       "<p>241954 rows × 7 columns</p>\n",
       "</div>"
      ],
      "text/plain": [
       "            hora      fecha  coedisp  abso    albedo  extinc        cn\n",
       "0       00:02:00 2017-01-01   19.200  3.51  0.845443  22.710  0.746809\n",
       "1       00:03:00 2017-01-01   18.800  3.59  0.839661  22.390  0.763830\n",
       "2       00:04:00 2017-01-01   25.800  4.03  0.864901  29.830  0.857447\n",
       "3       00:05:00 2017-01-01   20.300  3.82  0.841625  24.120  0.812766\n",
       "4       00:06:00 2017-01-01   19.700  3.94  0.833333  23.640  0.838298\n",
       "...          ...        ...      ...   ...       ...     ...       ...\n",
       "241949  23:56:00 2017-06-30    1.430  2.08  0.407407   3.510  0.442553\n",
       "241950  23:57:00 2017-06-30    0.681  1.80  0.274486   2.481  0.382979\n",
       "241951  23:58:00 2017-06-30    1.560  2.08  0.428571   3.640  0.442553\n",
       "241952  23:59:00 2017-06-30    2.060  1.96  0.512438   4.020  0.417021\n",
       "241953  23:59:55 2017-06-30    1.990  1.83  0.520942   3.820  0.389362\n",
       "\n",
       "[241954 rows x 7 columns]"
      ]
     },
     "execution_count": 5,
     "metadata": {},
     "output_type": "execute_result"
    }
   ],
   "source": [
    "datos"
   ]
  },
  {
   "cell_type": "code",
   "execution_count": 6,
   "metadata": {},
   "outputs": [
    {
     "name": "stdout",
     "output_type": "stream",
     "text": [
      "<class 'pandas.core.frame.DataFrame'>\n",
      "RangeIndex: 241954 entries, 0 to 241953\n",
      "Data columns (total 7 columns):\n",
      " #   Column   Non-Null Count   Dtype         \n",
      "---  ------   --------------   -----         \n",
      " 0   hora     241954 non-null  object        \n",
      " 1   fecha    241954 non-null  datetime64[ns]\n",
      " 2   coedisp  240958 non-null  float64       \n",
      " 3   abso     228263 non-null  float64       \n",
      " 4   albedo   227617 non-null  float64       \n",
      " 5   extinc   227617 non-null  float64       \n",
      " 6   cn       228263 non-null  float64       \n",
      "dtypes: datetime64[ns](1), float64(5), object(1)\n",
      "memory usage: 12.9+ MB\n"
     ]
    }
   ],
   "source": [
    "#info en tabla\n",
    "datos.info()"
   ]
  },
  {
   "cell_type": "code",
   "execution_count": 7,
   "metadata": {},
   "outputs": [],
   "source": [
    "#Reenombrando columnas\n",
    "datos.columns = ['hora', 'fecha', 'coef_dispersion', 'coef_absorcion',\n",
    "                 'albedo', 'coef_extincion', 'cn']"
   ]
  },
  {
   "cell_type": "code",
   "execution_count": 8,
   "metadata": {},
   "outputs": [
    {
     "name": "stdout",
     "output_type": "stream",
     "text": [
      "<class 'pandas.core.frame.DataFrame'>\n",
      "RangeIndex: 241954 entries, 0 to 241953\n",
      "Data columns (total 7 columns):\n",
      " #   Column           Non-Null Count   Dtype         \n",
      "---  ------           --------------   -----         \n",
      " 0   hora             241954 non-null  object        \n",
      " 1   fecha            241954 non-null  datetime64[ns]\n",
      " 2   coef_dispersion  240958 non-null  float64       \n",
      " 3   coef_absorcion   228263 non-null  float64       \n",
      " 4   albedo           227617 non-null  float64       \n",
      " 5   coef_extincion   227617 non-null  float64       \n",
      " 6   cn               228263 non-null  float64       \n",
      "dtypes: datetime64[ns](1), float64(5), object(1)\n",
      "memory usage: 12.9+ MB\n"
     ]
    }
   ],
   "source": [
    "# info con nuevos nombres tabla\n",
    "datos.info()"
   ]
  },
  {
   "cell_type": "code",
   "execution_count": 9,
   "metadata": {},
   "outputs": [
    {
     "data": {
      "text/plain": [
       "hora                   0\n",
       "fecha                  0\n",
       "coef_dispersion      996\n",
       "coef_absorcion     13691\n",
       "albedo             14337\n",
       "coef_extincion     14337\n",
       "cn                 13691\n",
       "dtype: int64"
      ]
     },
     "execution_count": 9,
     "metadata": {},
     "output_type": "execute_result"
    }
   ],
   "source": [
    "#datos nulos\n",
    "datos.isnull().sum()"
   ]
  },
  {
   "cell_type": "code",
   "execution_count": 10,
   "metadata": {},
   "outputs": [
    {
     "data": {
      "text/html": [
       "<div>\n",
       "<style scoped>\n",
       "    .dataframe tbody tr th:only-of-type {\n",
       "        vertical-align: middle;\n",
       "    }\n",
       "\n",
       "    .dataframe tbody tr th {\n",
       "        vertical-align: top;\n",
       "    }\n",
       "\n",
       "    .dataframe thead th {\n",
       "        text-align: right;\n",
       "    }\n",
       "</style>\n",
       "<table border=\"1\" class=\"dataframe\">\n",
       "  <thead>\n",
       "    <tr style=\"text-align: right;\">\n",
       "      <th></th>\n",
       "      <th>coef_dispersion</th>\n",
       "      <th>coef_absorcion</th>\n",
       "      <th>albedo</th>\n",
       "      <th>coef_extincion</th>\n",
       "      <th>cn</th>\n",
       "    </tr>\n",
       "  </thead>\n",
       "  <tbody>\n",
       "    <tr>\n",
       "      <th>count</th>\n",
       "      <td>240958.000000</td>\n",
       "      <td>228263.000000</td>\n",
       "      <td>227617.000000</td>\n",
       "      <td>227617.000000</td>\n",
       "      <td>228263.000000</td>\n",
       "    </tr>\n",
       "    <tr>\n",
       "      <th>mean</th>\n",
       "      <td>14.508450</td>\n",
       "      <td>4.183612</td>\n",
       "      <td>0.771034</td>\n",
       "      <td>19.072077</td>\n",
       "      <td>0.890130</td>\n",
       "    </tr>\n",
       "    <tr>\n",
       "      <th>std</th>\n",
       "      <td>10.178959</td>\n",
       "      <td>3.831417</td>\n",
       "      <td>0.121241</td>\n",
       "      <td>12.543635</td>\n",
       "      <td>0.815195</td>\n",
       "    </tr>\n",
       "    <tr>\n",
       "      <th>min</th>\n",
       "      <td>0.000008</td>\n",
       "      <td>0.000000</td>\n",
       "      <td>0.000005</td>\n",
       "      <td>0.051880</td>\n",
       "      <td>0.000000</td>\n",
       "    </tr>\n",
       "    <tr>\n",
       "      <th>0%</th>\n",
       "      <td>0.000008</td>\n",
       "      <td>0.000000</td>\n",
       "      <td>0.000005</td>\n",
       "      <td>0.051880</td>\n",
       "      <td>0.000000</td>\n",
       "    </tr>\n",
       "    <tr>\n",
       "      <th>10%</th>\n",
       "      <td>4.190000</td>\n",
       "      <td>1.090000</td>\n",
       "      <td>0.612214</td>\n",
       "      <td>6.260000</td>\n",
       "      <td>0.231915</td>\n",
       "    </tr>\n",
       "    <tr>\n",
       "      <th>20%</th>\n",
       "      <td>6.250000</td>\n",
       "      <td>1.650000</td>\n",
       "      <td>0.679668</td>\n",
       "      <td>8.800000</td>\n",
       "      <td>0.351064</td>\n",
       "    </tr>\n",
       "    <tr>\n",
       "      <th>30%</th>\n",
       "      <td>8.130000</td>\n",
       "      <td>2.120000</td>\n",
       "      <td>0.724106</td>\n",
       "      <td>11.120000</td>\n",
       "      <td>0.451064</td>\n",
       "    </tr>\n",
       "    <tr>\n",
       "      <th>40%</th>\n",
       "      <td>10.000000</td>\n",
       "      <td>2.610000</td>\n",
       "      <td>0.758764</td>\n",
       "      <td>13.510000</td>\n",
       "      <td>0.555319</td>\n",
       "    </tr>\n",
       "    <tr>\n",
       "      <th>50%</th>\n",
       "      <td>12.100000</td>\n",
       "      <td>3.130000</td>\n",
       "      <td>0.788504</td>\n",
       "      <td>16.130000</td>\n",
       "      <td>0.665957</td>\n",
       "    </tr>\n",
       "    <tr>\n",
       "      <th>60%</th>\n",
       "      <td>14.600000</td>\n",
       "      <td>3.750000</td>\n",
       "      <td>0.816000</td>\n",
       "      <td>19.100000</td>\n",
       "      <td>0.797872</td>\n",
       "    </tr>\n",
       "    <tr>\n",
       "      <th>70%</th>\n",
       "      <td>17.400000</td>\n",
       "      <td>4.590000</td>\n",
       "      <td>0.843226</td>\n",
       "      <td>22.780000</td>\n",
       "      <td>0.976596</td>\n",
       "    </tr>\n",
       "    <tr>\n",
       "      <th>80%</th>\n",
       "      <td>21.400000</td>\n",
       "      <td>5.880000</td>\n",
       "      <td>0.872339</td>\n",
       "      <td>27.700000</td>\n",
       "      <td>1.251060</td>\n",
       "    </tr>\n",
       "    <tr>\n",
       "      <th>90%</th>\n",
       "      <td>27.900000</td>\n",
       "      <td>8.370000</td>\n",
       "      <td>0.908451</td>\n",
       "      <td>35.800000</td>\n",
       "      <td>1.780850</td>\n",
       "    </tr>\n",
       "    <tr>\n",
       "      <th>100%</th>\n",
       "      <td>93.500000</td>\n",
       "      <td>81.700000</td>\n",
       "      <td>1.000000</td>\n",
       "      <td>135.100000</td>\n",
       "      <td>17.383000</td>\n",
       "    </tr>\n",
       "    <tr>\n",
       "      <th>max</th>\n",
       "      <td>93.500000</td>\n",
       "      <td>81.700000</td>\n",
       "      <td>1.000000</td>\n",
       "      <td>135.100000</td>\n",
       "      <td>17.383000</td>\n",
       "    </tr>\n",
       "  </tbody>\n",
       "</table>\n",
       "</div>"
      ],
      "text/plain": [
       "       coef_dispersion  coef_absorcion         albedo  coef_extincion  \\\n",
       "count    240958.000000   228263.000000  227617.000000   227617.000000   \n",
       "mean         14.508450        4.183612       0.771034       19.072077   \n",
       "std          10.178959        3.831417       0.121241       12.543635   \n",
       "min           0.000008        0.000000       0.000005        0.051880   \n",
       "0%            0.000008        0.000000       0.000005        0.051880   \n",
       "10%           4.190000        1.090000       0.612214        6.260000   \n",
       "20%           6.250000        1.650000       0.679668        8.800000   \n",
       "30%           8.130000        2.120000       0.724106       11.120000   \n",
       "40%          10.000000        2.610000       0.758764       13.510000   \n",
       "50%          12.100000        3.130000       0.788504       16.130000   \n",
       "60%          14.600000        3.750000       0.816000       19.100000   \n",
       "70%          17.400000        4.590000       0.843226       22.780000   \n",
       "80%          21.400000        5.880000       0.872339       27.700000   \n",
       "90%          27.900000        8.370000       0.908451       35.800000   \n",
       "100%         93.500000       81.700000       1.000000      135.100000   \n",
       "max          93.500000       81.700000       1.000000      135.100000   \n",
       "\n",
       "                  cn  \n",
       "count  228263.000000  \n",
       "mean        0.890130  \n",
       "std         0.815195  \n",
       "min         0.000000  \n",
       "0%          0.000000  \n",
       "10%         0.231915  \n",
       "20%         0.351064  \n",
       "30%         0.451064  \n",
       "40%         0.555319  \n",
       "50%         0.665957  \n",
       "60%         0.797872  \n",
       "70%         0.976596  \n",
       "80%         1.251060  \n",
       "90%         1.780850  \n",
       "100%       17.383000  \n",
       "max        17.383000  "
      ]
     },
     "execution_count": 10,
     "metadata": {},
     "output_type": "execute_result"
    }
   ],
   "source": [
    "# promedio, desviacion , maximo y mínimo\n",
    "datos.describe(percentiles=np.linspace(0,1,11))"
   ]
  },
  {
   "cell_type": "code",
   "execution_count": 11,
   "metadata": {},
   "outputs": [
    {
     "data": {
      "text/html": [
       "<div>\n",
       "<style scoped>\n",
       "    .dataframe tbody tr th:only-of-type {\n",
       "        vertical-align: middle;\n",
       "    }\n",
       "\n",
       "    .dataframe tbody tr th {\n",
       "        vertical-align: top;\n",
       "    }\n",
       "\n",
       "    .dataframe thead th {\n",
       "        text-align: right;\n",
       "    }\n",
       "</style>\n",
       "<table border=\"1\" class=\"dataframe\">\n",
       "  <thead>\n",
       "    <tr style=\"text-align: right;\">\n",
       "      <th></th>\n",
       "      <th>hora</th>\n",
       "      <th>fecha</th>\n",
       "      <th>coef_dispersion</th>\n",
       "      <th>coef_absorcion</th>\n",
       "      <th>albedo</th>\n",
       "      <th>coef_extincion</th>\n",
       "      <th>cn</th>\n",
       "    </tr>\n",
       "  </thead>\n",
       "  <tbody>\n",
       "    <tr>\n",
       "      <th>113221</th>\n",
       "      <td>05:50:00</td>\n",
       "      <td>2017-03-27</td>\n",
       "      <td>9.98</td>\n",
       "      <td>0.0</td>\n",
       "      <td>1.0</td>\n",
       "      <td>9.98</td>\n",
       "      <td>0.0</td>\n",
       "    </tr>\n",
       "  </tbody>\n",
       "</table>\n",
       "</div>"
      ],
      "text/plain": [
       "            hora      fecha  coef_dispersion  coef_absorcion  albedo  \\\n",
       "113221  05:50:00 2017-03-27             9.98             0.0     1.0   \n",
       "\n",
       "        coef_extincion   cn  \n",
       "113221            9.98  0.0  "
      ]
     },
     "execution_count": 11,
     "metadata": {},
     "output_type": "execute_result"
    }
   ],
   "source": [
    "datos[datos.cn == datos.cn.min()]"
   ]
  },
  {
   "cell_type": "code",
   "execution_count": 12,
   "metadata": {},
   "outputs": [
    {
     "data": {
      "text/html": [
       "<div>\n",
       "<style scoped>\n",
       "    .dataframe tbody tr th:only-of-type {\n",
       "        vertical-align: middle;\n",
       "    }\n",
       "\n",
       "    .dataframe tbody tr th {\n",
       "        vertical-align: top;\n",
       "    }\n",
       "\n",
       "    .dataframe thead th {\n",
       "        text-align: right;\n",
       "    }\n",
       "</style>\n",
       "<table border=\"1\" class=\"dataframe\">\n",
       "  <thead>\n",
       "    <tr style=\"text-align: right;\">\n",
       "      <th></th>\n",
       "      <th>hora</th>\n",
       "      <th>fecha</th>\n",
       "      <th>coef_dispersion</th>\n",
       "      <th>coef_absorcion</th>\n",
       "      <th>albedo</th>\n",
       "      <th>coef_extincion</th>\n",
       "      <th>cn</th>\n",
       "    </tr>\n",
       "  </thead>\n",
       "  <tbody>\n",
       "    <tr>\n",
       "      <th>4812</th>\n",
       "      <td>13:57:00</td>\n",
       "      <td>2017-01-04</td>\n",
       "      <td>10.7</td>\n",
       "      <td>2.87</td>\n",
       "      <td>0.788504</td>\n",
       "      <td>13.57</td>\n",
       "      <td>0.610638</td>\n",
       "    </tr>\n",
       "    <tr>\n",
       "      <th>67868</th>\n",
       "      <td>11:57:00</td>\n",
       "      <td>2017-02-21</td>\n",
       "      <td>10.7</td>\n",
       "      <td>2.87</td>\n",
       "      <td>0.788504</td>\n",
       "      <td>13.57</td>\n",
       "      <td>0.610638</td>\n",
       "    </tr>\n",
       "    <tr>\n",
       "      <th>127690</th>\n",
       "      <td>01:12:00</td>\n",
       "      <td>2017-04-07</td>\n",
       "      <td>10.7</td>\n",
       "      <td>2.87</td>\n",
       "      <td>0.788504</td>\n",
       "      <td>13.57</td>\n",
       "      <td>0.610638</td>\n",
       "    </tr>\n",
       "    <tr>\n",
       "      <th>221990</th>\n",
       "      <td>03:43:00</td>\n",
       "      <td>2017-06-16</td>\n",
       "      <td>10.7</td>\n",
       "      <td>2.87</td>\n",
       "      <td>0.788504</td>\n",
       "      <td>13.57</td>\n",
       "      <td>0.610638</td>\n",
       "    </tr>\n",
       "  </tbody>\n",
       "</table>\n",
       "</div>"
      ],
      "text/plain": [
       "            hora      fecha  coef_dispersion  coef_absorcion    albedo  \\\n",
       "4812    13:57:00 2017-01-04             10.7            2.87  0.788504   \n",
       "67868   11:57:00 2017-02-21             10.7            2.87  0.788504   \n",
       "127690  01:12:00 2017-04-07             10.7            2.87  0.788504   \n",
       "221990  03:43:00 2017-06-16             10.7            2.87  0.788504   \n",
       "\n",
       "        coef_extincion        cn  \n",
       "4812             13.57  0.610638  \n",
       "67868            13.57  0.610638  \n",
       "127690           13.57  0.610638  \n",
       "221990           13.57  0.610638  "
      ]
     },
     "execution_count": 12,
     "metadata": {},
     "output_type": "execute_result"
    }
   ],
   "source": [
    "datos[datos.albedo == datos.albedo.median()]"
   ]
  },
  {
   "cell_type": "code",
   "execution_count": 13,
   "metadata": {},
   "outputs": [
    {
     "data": {
      "text/html": [
       "<div>\n",
       "<style scoped>\n",
       "    .dataframe tbody tr th:only-of-type {\n",
       "        vertical-align: middle;\n",
       "    }\n",
       "\n",
       "    .dataframe tbody tr th {\n",
       "        vertical-align: top;\n",
       "    }\n",
       "\n",
       "    .dataframe thead th {\n",
       "        text-align: right;\n",
       "    }\n",
       "</style>\n",
       "<table border=\"1\" class=\"dataframe\">\n",
       "  <thead>\n",
       "    <tr style=\"text-align: right;\">\n",
       "      <th></th>\n",
       "      <th>hora</th>\n",
       "      <th>fecha</th>\n",
       "      <th>coef_dispersion</th>\n",
       "      <th>coef_absorcion</th>\n",
       "      <th>albedo</th>\n",
       "      <th>coef_extincion</th>\n",
       "      <th>cn</th>\n",
       "    </tr>\n",
       "  </thead>\n",
       "  <tbody>\n",
       "    <tr>\n",
       "      <th>35366</th>\n",
       "      <td>07:34:00</td>\n",
       "      <td>2017-01-27</td>\n",
       "      <td>53.4</td>\n",
       "      <td>81.7</td>\n",
       "      <td>0.395263</td>\n",
       "      <td>135.1</td>\n",
       "      <td>17.383</td>\n",
       "    </tr>\n",
       "  </tbody>\n",
       "</table>\n",
       "</div>"
      ],
      "text/plain": [
       "           hora      fecha  coef_dispersion  coef_absorcion    albedo  \\\n",
       "35366  07:34:00 2017-01-27             53.4            81.7  0.395263   \n",
       "\n",
       "       coef_extincion      cn  \n",
       "35366           135.1  17.383  "
      ]
     },
     "execution_count": 13,
     "metadata": {},
     "output_type": "execute_result"
    }
   ],
   "source": [
    "# localizacion de datos\n",
    "datos[datos.cn == datos.cn.max()]"
   ]
  },
  {
   "cell_type": "code",
   "execution_count": 14,
   "metadata": {},
   "outputs": [
    {
     "data": {
      "text/html": [
       "<div>\n",
       "<style scoped>\n",
       "    .dataframe tbody tr th:only-of-type {\n",
       "        vertical-align: middle;\n",
       "    }\n",
       "\n",
       "    .dataframe tbody tr th {\n",
       "        vertical-align: top;\n",
       "    }\n",
       "\n",
       "    .dataframe thead th {\n",
       "        text-align: right;\n",
       "    }\n",
       "</style>\n",
       "<table border=\"1\" class=\"dataframe\">\n",
       "  <thead>\n",
       "    <tr style=\"text-align: right;\">\n",
       "      <th></th>\n",
       "      <th>nul_values</th>\n",
       "      <th>porcentaje</th>\n",
       "    </tr>\n",
       "  </thead>\n",
       "  <tbody>\n",
       "    <tr>\n",
       "      <th>hora</th>\n",
       "      <td>0</td>\n",
       "      <td>0.000000</td>\n",
       "    </tr>\n",
       "    <tr>\n",
       "      <th>fecha</th>\n",
       "      <td>0</td>\n",
       "      <td>0.000000</td>\n",
       "    </tr>\n",
       "    <tr>\n",
       "      <th>coef_dispersion</th>\n",
       "      <td>996</td>\n",
       "      <td>0.411648</td>\n",
       "    </tr>\n",
       "    <tr>\n",
       "      <th>coef_absorcion</th>\n",
       "      <td>13691</td>\n",
       "      <td>5.658514</td>\n",
       "    </tr>\n",
       "    <tr>\n",
       "      <th>albedo</th>\n",
       "      <td>14337</td>\n",
       "      <td>5.925507</td>\n",
       "    </tr>\n",
       "    <tr>\n",
       "      <th>coef_extincion</th>\n",
       "      <td>14337</td>\n",
       "      <td>5.925507</td>\n",
       "    </tr>\n",
       "    <tr>\n",
       "      <th>cn</th>\n",
       "      <td>13691</td>\n",
       "      <td>5.658514</td>\n",
       "    </tr>\n",
       "  </tbody>\n",
       "</table>\n",
       "</div>"
      ],
      "text/plain": [
       "                 nul_values  porcentaje\n",
       "hora                      0    0.000000\n",
       "fecha                     0    0.000000\n",
       "coef_dispersion         996    0.411648\n",
       "coef_absorcion        13691    5.658514\n",
       "albedo                14337    5.925507\n",
       "coef_extincion        14337    5.925507\n",
       "cn                    13691    5.658514"
      ]
     },
     "execution_count": 14,
     "metadata": {},
     "output_type": "execute_result"
    }
   ],
   "source": [
    "# tratamiento de nulos, que hacer y que significan\n",
    "# rellenando nulos\n",
    "nulos = pd.DataFrame(datos.isnull().sum())\n",
    "nulos.columns = ['nul_values']\n",
    "#se crea columna\n",
    "nulos['porcentaje'] = nulos.nul_values/datos.shape[0] * 100\n",
    "nulos"
   ]
  },
  {
   "cell_type": "code",
   "execution_count": 15,
   "metadata": {},
   "outputs": [],
   "source": [
    "# rellenar datos\n",
    "# datos.fillna(datos.mean(), inplace=True)"
   ]
  },
  {
   "cell_type": "code",
   "execution_count": 16,
   "metadata": {},
   "outputs": [
    {
     "data": {
      "text/html": [
       "<div>\n",
       "<style scoped>\n",
       "    .dataframe tbody tr th:only-of-type {\n",
       "        vertical-align: middle;\n",
       "    }\n",
       "\n",
       "    .dataframe tbody tr th {\n",
       "        vertical-align: top;\n",
       "    }\n",
       "\n",
       "    .dataframe thead th {\n",
       "        text-align: right;\n",
       "    }\n",
       "</style>\n",
       "<table border=\"1\" class=\"dataframe\">\n",
       "  <thead>\n",
       "    <tr style=\"text-align: right;\">\n",
       "      <th></th>\n",
       "      <th>nul_values</th>\n",
       "    </tr>\n",
       "  </thead>\n",
       "  <tbody>\n",
       "    <tr>\n",
       "      <th>total</th>\n",
       "      <td>57052</td>\n",
       "    </tr>\n",
       "  </tbody>\n",
       "</table>\n",
       "</div>"
      ],
      "text/plain": [
       "       nul_values\n",
       "total       57052"
      ]
     },
     "execution_count": 16,
     "metadata": {},
     "output_type": "execute_result"
    }
   ],
   "source": [
    "pd.DataFrame(nulos.nul_values.sum(),\n",
    "             index=['total'],\n",
    "             columns=['nul_values'])"
   ]
  },
  {
   "cell_type": "code",
   "execution_count": 17,
   "metadata": {},
   "outputs": [
    {
     "data": {
      "text/html": [
       "<div>\n",
       "<style scoped>\n",
       "    .dataframe tbody tr th:only-of-type {\n",
       "        vertical-align: middle;\n",
       "    }\n",
       "\n",
       "    .dataframe tbody tr th {\n",
       "        vertical-align: top;\n",
       "    }\n",
       "\n",
       "    .dataframe thead th {\n",
       "        text-align: right;\n",
       "    }\n",
       "</style>\n",
       "<table border=\"1\" class=\"dataframe\">\n",
       "  <thead>\n",
       "    <tr style=\"text-align: right;\">\n",
       "      <th></th>\n",
       "      <th>nul_values</th>\n",
       "      <th>porcentaje</th>\n",
       "    </tr>\n",
       "  </thead>\n",
       "  <tbody>\n",
       "    <tr>\n",
       "      <th>hora</th>\n",
       "      <td>0</td>\n",
       "      <td>0.000000</td>\n",
       "    </tr>\n",
       "    <tr>\n",
       "      <th>fecha</th>\n",
       "      <td>0</td>\n",
       "      <td>0.000000</td>\n",
       "    </tr>\n",
       "    <tr>\n",
       "      <th>coef_dispersion</th>\n",
       "      <td>996</td>\n",
       "      <td>0.411648</td>\n",
       "    </tr>\n",
       "    <tr>\n",
       "      <th>coef_absorcion</th>\n",
       "      <td>13691</td>\n",
       "      <td>5.658514</td>\n",
       "    </tr>\n",
       "    <tr>\n",
       "      <th>albedo</th>\n",
       "      <td>14337</td>\n",
       "      <td>5.925507</td>\n",
       "    </tr>\n",
       "    <tr>\n",
       "      <th>coef_extincion</th>\n",
       "      <td>14337</td>\n",
       "      <td>5.925507</td>\n",
       "    </tr>\n",
       "    <tr>\n",
       "      <th>cn</th>\n",
       "      <td>13691</td>\n",
       "      <td>5.658514</td>\n",
       "    </tr>\n",
       "    <tr>\n",
       "      <th>total</th>\n",
       "      <td>57052</td>\n",
       "      <td>NaN</td>\n",
       "    </tr>\n",
       "  </tbody>\n",
       "</table>\n",
       "</div>"
      ],
      "text/plain": [
       "                 nul_values  porcentaje\n",
       "hora                      0    0.000000\n",
       "fecha                     0    0.000000\n",
       "coef_dispersion         996    0.411648\n",
       "coef_absorcion        13691    5.658514\n",
       "albedo                14337    5.925507\n",
       "coef_extincion        14337    5.925507\n",
       "cn                    13691    5.658514\n",
       "total                 57052         NaN"
      ]
     },
     "execution_count": 17,
     "metadata": {},
     "output_type": "execute_result"
    }
   ],
   "source": [
    "#crear fila nueva\n",
    "nulos.append(\n",
    "    pd.DataFrame(data=nulos.nul_values.sum(),\n",
    "                 index=['total'],columns=['nul_values']))"
   ]
  },
  {
   "cell_type": "code",
   "execution_count": 18,
   "metadata": {},
   "outputs": [
    {
     "data": {
      "text/plain": [
       "hora                   0\n",
       "fecha                  0\n",
       "coef_dispersion      996\n",
       "coef_absorcion     13691\n",
       "albedo             14337\n",
       "coef_extincion     14337\n",
       "cn                 13691\n",
       "dtype: int64"
      ]
     },
     "execution_count": 18,
     "metadata": {},
     "output_type": "execute_result"
    }
   ],
   "source": [
    "#Chequeo de borrado de nulos\n",
    "datos.isnull().sum()"
   ]
  },
  {
   "cell_type": "code",
   "execution_count": 19,
   "metadata": {},
   "outputs": [
    {
     "name": "stderr",
     "output_type": "stream",
     "text": [
      "<ipython-input-19-0e4b3556c943>:2: FutureWarning: DataFrame.mean and DataFrame.median with numeric_only=None will include datetime64 and datetime64tz columns in a future version.\n",
      "  datos.fillna(datos.median(), inplace=True)\n"
     ]
    }
   ],
   "source": [
    "# datos rellenar nulos\n",
    "datos.fillna(datos.median(), inplace=True)"
   ]
  },
  {
   "cell_type": "code",
   "execution_count": 20,
   "metadata": {},
   "outputs": [
    {
     "data": {
      "image/png": "[encoded data removed]",
      "text/plain": [
       "<Figure size 432x288 with 1 Axes>"
      ]
     },
     "metadata": {
      "needs_background": "light"
     },
     "output_type": "display_data"
    }
   ],
   "source": [
    "# distribuciones\n",
    "datos.cn.hist(bins=100)\n",
    "\n",
    "plt.xlim(-0.2, datos.cn.quantile(0.99))\n",
    "plt.xlabel('carbono negro')\n",
    "plt.ylabel(u'numero de datos')\n",
    "plt.title('Distribucion del carbono negro acotado', fontsize=20,)\n",
    "plt.xticks(fontsize = 18)\n",
    "plt.yticks(fontsize = 16);"
   ]
  },
  {
   "cell_type": "code",
   "execution_count": 21,
   "metadata": {},
   "outputs": [
    {
     "data": {
      "image/png": "[encoded data removed]",
      "text/plain": [
       "<Figure size 1080x720 with 6 Axes>"
      ]
     },
     "metadata": {
      "needs_background": "light"
     },
     "output_type": "display_data"
    }
   ],
   "source": [
    "#Histogramas de datos\n",
    "datos.hist(bins=100, figsize=(15,10)) \n",
    "plt.tight_layout()"
   ]
  },
  {
   "cell_type": "code",
   "execution_count": 22,
   "metadata": {},
   "outputs": [
    {
     "data": {
      "text/plain": [
       "Index(['coef_dispersion', 'coef_absorcion', 'albedo', 'coef_extincion', 'cn'], dtype='object')"
      ]
     },
     "execution_count": 22,
     "metadata": {},
     "output_type": "execute_result"
    }
   ],
   "source": [
    "datos.columns[2:]"
   ]
  },
  {
   "cell_type": "code",
   "execution_count": 23,
   "metadata": {},
   "outputs": [
    {
     "data": {
      "text/html": [
       "<div>\n",
       "<style scoped>\n",
       "    .dataframe tbody tr th:only-of-type {\n",
       "        vertical-align: middle;\n",
       "    }\n",
       "\n",
       "    .dataframe tbody tr th {\n",
       "        vertical-align: top;\n",
       "    }\n",
       "\n",
       "    .dataframe thead th {\n",
       "        text-align: right;\n",
       "    }\n",
       "</style>\n",
       "<table border=\"1\" class=\"dataframe\">\n",
       "  <thead>\n",
       "    <tr style=\"text-align: right;\">\n",
       "      <th></th>\n",
       "      <th>coef_dispersion</th>\n",
       "      <th>coef_absorcion</th>\n",
       "      <th>albedo</th>\n",
       "      <th>coef_extincion</th>\n",
       "      <th>cn</th>\n",
       "    </tr>\n",
       "  </thead>\n",
       "  <tbody>\n",
       "    <tr>\n",
       "      <th>coef_dispersion</th>\n",
       "      <td>1.000000</td>\n",
       "      <td>0.548968</td>\n",
       "      <td>0.320166</td>\n",
       "      <td>0.936913</td>\n",
       "      <td>0.548968</td>\n",
       "    </tr>\n",
       "    <tr>\n",
       "      <th>coef_absorcion</th>\n",
       "      <td>0.548968</td>\n",
       "      <td>1.000000</td>\n",
       "      <td>-0.507234</td>\n",
       "      <td>0.716077</td>\n",
       "      <td>1.000000</td>\n",
       "    </tr>\n",
       "    <tr>\n",
       "      <th>albedo</th>\n",
       "      <td>0.320166</td>\n",
       "      <td>-0.507234</td>\n",
       "      <td>1.000000</td>\n",
       "      <td>0.146618</td>\n",
       "      <td>-0.507234</td>\n",
       "    </tr>\n",
       "    <tr>\n",
       "      <th>coef_extincion</th>\n",
       "      <td>0.936913</td>\n",
       "      <td>0.716077</td>\n",
       "      <td>0.146618</td>\n",
       "      <td>1.000000</td>\n",
       "      <td>0.716077</td>\n",
       "    </tr>\n",
       "    <tr>\n",
       "      <th>cn</th>\n",
       "      <td>0.548968</td>\n",
       "      <td>1.000000</td>\n",
       "      <td>-0.507234</td>\n",
       "      <td>0.716077</td>\n",
       "      <td>1.000000</td>\n",
       "    </tr>\n",
       "  </tbody>\n",
       "</table>\n",
       "</div>"
      ],
      "text/plain": [
       "                 coef_dispersion  coef_absorcion    albedo  coef_extincion  \\\n",
       "coef_dispersion         1.000000        0.548968  0.320166        0.936913   \n",
       "coef_absorcion          0.548968        1.000000 -0.507234        0.716077   \n",
       "albedo                  0.320166       -0.507234  1.000000        0.146618   \n",
       "coef_extincion          0.936913        0.716077  0.146618        1.000000   \n",
       "cn                      0.548968        1.000000 -0.507234        0.716077   \n",
       "\n",
       "                       cn  \n",
       "coef_dispersion  0.548968  \n",
       "coef_absorcion   1.000000  \n",
       "albedo          -0.507234  \n",
       "coef_extincion   0.716077  \n",
       "cn               1.000000  "
      ]
     },
     "execution_count": 23,
     "metadata": {},
     "output_type": "execute_result"
    }
   ],
   "source": [
    "# para checar corelaciones\n",
    "datos.corr(method='spearman')"
   ]
  },
  {
   "cell_type": "code",
   "execution_count": 25,
   "metadata": {},
   "outputs": [
    {
     "data": {
      "text/plain": [
       "<AxesSubplot:>"
      ]
     },
     "execution_count": 25,
     "metadata": {},
     "output_type": "execute_result"
    },
    {
     "data": {
      "image/png": "[encoded data removed]",
      "text/plain": [
       "<Figure size 432x288 with 2 Axes>"
      ]
     },
     "metadata": {
      "needs_background": "light"
     },
     "output_type": "display_data"
    }
   ],
   "source": [
    "sbn.heatmap(datos.corr(),annot=True,cmap='Blues')"
   ]
  }
 ],
 "metadata": {
  "kernelspec": {
   "display_name": "Python 3",
   "language": "python",
   "name": "python3"
  },
  "language_info": {
   "codemirror_mode": {
    "name": "ipython",
    "version": 3
   },
   "file_extension": ".py",
   "mimetype": "text/x-python",
   "name": "python",
   "nbconvert_exporter": "python",
   "pygments_lexer": "ipython3",
   "version": "3.8.8"
  },
  "toc": {
   "base_numbering": 1,
   "nav_menu": {},
   "number_sections": true,
   "sideBar": true,
   "skip_h1_title": false,
   "title_cell": "Table of Contents",
   "title_sidebar": "Contents",
   "toc_cell": false,
   "toc_position": {},
   "toc_section_display": "block",
   "toc_window_display": false
  },
  "varInspector": {
   "cols": {
    "lenName": 16,
    "lenType": 16,
    "lenVar": 40
   },
   "kernels_config": {
    "python": {
     "delete_cmd_postfix": "",
     "delete_cmd_prefix": "del ",
     "library": "var_list.py",
     "varRefreshCmd": "print(var_dic_list())"
    },
    "r": {
     "delete_cmd_postfix": ") ",
     "delete_cmd_prefix": "rm(",
     "library": "var_list.r",
     "varRefreshCmd": "cat(var_dic_list()) "
    }
   },
   "types_to_exclude": [
    "module",
    "function",
    "builtin_function_or_method",
    "instance",
    "_Feature"
   ],
   "window_display": false
  }
 },
 "nbformat": 4,
 "nbformat_minor": 2
}
